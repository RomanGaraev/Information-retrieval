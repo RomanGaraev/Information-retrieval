{
 "cells": [
  {
   "cell_type": "markdown",
   "metadata": {},
   "source": [
    "# 1. [40] Language and Topic models\n",
    "\n",
    "A common suggestion to users for coming up with good queries is to think of words that would likely appear in a relevant document, and to use those words as the query. The language modeling approach to IR directly models this idea: a document is a good match to a query if the document model is likely to generate the query, which will in turn happen if the document contains the query words often. \n",
    "\n",
    "You will score documents with respect to user query using language models and also get some experience with topic modelling.\n",
    "\n",
    "## 1.0. [5] Loading data\n",
    "\n",
    "We use the dataset we already used once - [this topic-modeling dataset](https://code.google.com/archive/p/topic-modeling-tool/downloads) ([or from github](https://github.com/IUCVLab/information-retrieval/blob/main/datasets/topic-modelling.zip))."
   ]
  },
  {
   "cell_type": "code",
   "execution_count": 1,
   "metadata": {},
   "outputs": [
    {
     "name": "stdout",
     "output_type": "stream",
     "text": [
      "# of documents 15002\n"
     ]
    }
   ],
   "source": [
    "import os\n",
    "\n",
    "all_data = []\n",
    "# Data set is already loaded and located in the path\n",
    "path = \"doc2vec\"\n",
    "files = os.listdir(path)\n",
    "for file in files:\n",
    "    with open(os.path.join(path, file), 'r') as fs:\n",
    "        # The last element from file is also \\n\n",
    "        all_data += fs.read().split('\\n')[:-1]\n",
    "\n",
    "print(\"# of documents\", len(all_data))\n",
    "assert len(all_data) == 15002"
   ]
  },
  {
   "cell_type": "markdown",
   "metadata": {},
   "source": [
    "## 1.1. [35] Ranking Using Language Models\n",
    "Our goal is to rank documents by $P(d|q)$, where the probability of a document is interpreted as the likelihood that it is relevant to the query. \n",
    "\n",
    "Using Bayes rule: $P(d|q) = \\frac{P(q|d)P(d)}{P(q)}$\n",
    "\n",
    "$P(q)$ is the same for all documents, and so can be ignored. The prior probability of a document $P(d)$ is often treated as uniform across all $d$'s and so it can also be ignored. What does it mean? \n",
    "\n",
    "It means that computing $P(q|d)$ for different documents we can compare how relevant are they to the query. How can we estimate $P(q|d)$?\n",
    "\n",
    "$P(q|d)$ can be estimated as:\n",
    "\n",
    "![](https://i.imgur.com/BEIMAC1.png)\n",
    "\n",
    "where $M_d$ is the language model of document $d$, $tf_{t,d}$ is the term frequency of term $t$ in document $d$, and $L_d$ is the number of tokens in document $d$. That is, we just count up how often each word occurred, and divide by the total number of words in the document $d$.\n",
    "\n",
    "### 1.1.1. [5] Build TDM (or DTM)\n",
    "\n",
    "The first thing we need to do is to build a term-document matrix for tour dataset."
   ]
  },
  {
   "cell_type": "code",
   "execution_count": 31,
   "metadata": {},
   "outputs": [
    {
     "name": "stderr",
     "output_type": "stream",
     "text": [
      "[nltk_data] Downloading package stopwords to\n",
      "[nltk_data]     C:\\Users\\demo8\\AppData\\Roaming\\nltk_data...\n",
      "[nltk_data]   Unzipping corpora\\stopwords.zip.\n"
     ]
    }
   ],
   "source": [
    "import nltk\n",
    "\n",
    "nltk.download('stopwords')\n",
    "from nltk.corpus import stopwords\n",
    "\n",
    "stop_words = stopwords.words('english')\n",
    "class Preprocessor:\n",
    "\n",
    "    def __init__(self):\n",
    "        self.stop_words = stopwords.words('english')\n",
    "\n",
    "    def tokenize(self, text):\n",
    "        return nltk.word_tokenize(text)\n",
    "\n",
    "    def preprocess(self, text):\n",
    "        preprocessed = self.tokenize(text.lower())\n",
    "\n",
    "        # Get gid of stop words\n",
    "        preprocessed = [i for i in preprocessed if i not in self.stop_words]\n",
    "        return preprocessed"
   ]
  },
  {
   "cell_type": "code",
   "execution_count": 32,
   "outputs": [
    {
     "name": "stderr",
     "output_type": "stream",
     "text": [
      "100%|██████████| 15002/15002 [01:07<00:00, 221.19it/s]\n"
     ]
    }
   ],
   "source": [
    "# TODO: build term-document matrix for the dataset\n",
    "from tqdm import tqdm\n",
    "from collections import Counter\n",
    "\n",
    "prep = Preprocessor()\n",
    "# I save as much information as possible to make further function faster\n",
    "doc_lengths = {}\n",
    "DTM = {}\n",
    "TDM = {}\n",
    "\n",
    "\n",
    "for doc_id in tqdm(range(len(all_data))):\n",
    "    # Remove stop words, because they sometimes lead to inadequate result to jelinek-mercer\n",
    "    doc = prep.preprocess(all_data[doc_id])\n",
    "    count = Counter(doc)\n",
    "    DTM[doc_id] = dict(count.items())\n",
    "    for word in count:\n",
    "        TDM.setdefault(word, 0)\n",
    "        TDM[word] += count[word]\n",
    "    doc_lengths[doc_id] = len(doc)"
   ],
   "metadata": {
    "collapsed": false,
    "pycharm": {
     "name": "#%%\n"
    }
   }
  },
  {
   "cell_type": "markdown",
   "metadata": {},
   "source": [
    "### 1.1.2. [15] Smoothing\n",
    "\n",
    "Now, you need to implement the abovementioned logic in the `lm_rank_documents` function below. Do you see any potential problems?\n",
    "\n",
    "Yes, data sparsity - we don't expect to meet each term in each doc, so, in most cases, we will get zero scores, which is not what we really want.\n",
    "\n",
    "The solution is smooting.\n",
    "\n",
    "One option is *additive smoothing* - adding a small number (0 to 1) to the observed counts and renormalizing to give a probability distribution.\n",
    "\n",
    "Another option is called [Jelinek-Mercer smoothing](http://mlwiki.org/index.php/Smoothing_for_Language_Models#Jelinek-Mercer_Smoothing) - a simple idea that works well in practice is to use a mixture between a document-specific distribution and distribution estimated from the entire collection:\n",
    "\n",
    "![](https://i.imgur.com/8Qv41Wp.png)\n",
    "\n",
    "where 0 < λ < 1 and $M_c$ is a language model built from the entire document collection.\n",
    "\n",
    "Refer to [*Chapter 12*](https://nlp.stanford.edu/IR-book/html/htmledition/language-models-for-information-retrieval-1.html) for the detailed explanation.\n",
    "\n",
    "\n",
    "You are going to apply both in your `lm_rank_documents` function. This function takes TDM or DTM as an input, and ranks all documents \"building\" a language model for each document, returning relative probabilities of query being generated by a document as a document's score."
   ]
  },
  {
   "cell_type": "code",
   "execution_count": 33,
   "metadata": {},
   "outputs": [],
   "source": [
    "import numpy as np\n",
    "\n",
    "# Query - list of words\n",
    "# dtm - (document_id x terms) list of dicts\n",
    "# tdm - (term x doc_id with this term) list of dicts\n",
    "# doc_len - int list with overall count of words for each document\n",
    "def lm_rank_documents(query, dtm, tdm, doc_len, smoothing='additive', param=0.001):\n",
    "    scores = []\n",
    "    # Size of language model\n",
    "    L_all = sum(doc_len)\n",
    "\n",
    "    if smoothing == 'additive':\n",
    "        for doc_id, doc_content in dtm.items():\n",
    "            P_q_Md = 1\n",
    "            for term in query:\n",
    "                P_t_Mc = tdm.setdefault(term, 0) / L_all\n",
    "                tf = doc_content.setdefault(term, 0)\n",
    "                # Bayesian smoothing\n",
    "                P_q_Md *= (tf + param * P_t_Mc) \\\n",
    "                        / (doc_len[doc_id] + param)\n",
    "            scores.append((doc_id, P_q_Md))\n",
    "\n",
    "    elif smoothing == 'jelinek-mercer':\n",
    "        for doc_id, doc_content in dtm.items():\n",
    "            P_q_Md = 1\n",
    "            for term in query:\n",
    "                # Frequency of term in the document\n",
    "                P_t_Md = doc_content.setdefault(term, 0) / doc_len[doc_id]\n",
    "                # Overall frequency of term\n",
    "                P_t_Mc = tdm.setdefault(term, 0) / L_all\n",
    "                # Linear interpolation from http://mlwiki.org/index.php/Smoothing_for_Language_Models#Jelinek-Mercer_Smoothing\n",
    "                P_q_Md *= (1 - param) * P_t_Md + param * P_t_Mc\n",
    "            scores.append((doc_id, P_q_Md))\n",
    "\n",
    "    else:\n",
    "        print(f\"Smoothing {smoothing} is not realized.\")\n",
    "\n",
    "    return sorted(scores, key=lambda x: x[1],reverse=True)"
   ]
  },
  {
   "cell_type": "markdown",
   "metadata": {},
   "source": [
    "### 1.1.3. [15] Testing\n",
    "\n",
    "Check if this type of ranking gives meaningful results. For each query output document `category`, `doc_id`, `score`, and the *beginning* of the document, as it is shown below. Analyze if categories and contents match the queries. "
   ]
  },
  {
   "cell_type": "code",
   "execution_count": 34,
   "metadata": {},
   "outputs": [
    {
     "name": "stdout",
     "output_type": "stream",
     "text": [
      "User query: piano concert\n",
      "Top 5 relevant documents:\n",
      "Score 0.0001087110286065763, document 13834 from \"music\": \"sometimes the most satisfying renovation the one that doesn happen two years ago geoffrey menin boug ...\"\n",
      "Score 7.72206679863405e-05, document 13808 from \"music\": \"playing carnegie hall concert performer dream when word leaked out that america most famous concert  ...\"\n",
      "Score 6.794556107782208e-05, document 13588 from \"music\": \"igor kipnis the virtuoso harpsichordist whose busy concert recording career made him the instrument  ...\"\n",
      "Score 2.9238358794485743e-05, document 14912 from \"music\": \"leo ornstein russian born composer and pianist who the early 20th century was leading figure the ame ...\"\n",
      "Score 2.317848599970909e-05, document 12926 from \"music\": \"felt like was going church marry guy never met said the jazz violinist regina carter the metaphorica ...\"\n",
      "\n",
      "\n",
      "User query: symptoms of head trauma\n",
      "Top 5 relevant documents:\n",
      "Score 0.0001107783439535227, document 9355 from \"brain injury\": \"incidental finding chiari malformation with progression symptoms after head trauma case report chiar ...\"\n",
      "Score 9.616178326322808e-05, document 1490 from \"brain injury\": \"conversion symptomatic chiari malformation after minor head neck trauma objective the chiari malform ...\"\n",
      "Score 5.832481377879514e-05, document 1998 from \"brain injury\": \"characteristics that distinguish abusive from nonabusive head trauma among young children who underw ...\"\n",
      "Score 5.124583393745835e-05, document 6279 from \"brain injury\": \"head trauma female professional wrestlers the clinical characteristics head trauma were evaluated wr ...\"\n",
      "Score 4.5524121709251625e-05, document 5023 from \"brain injury\": \"utility computed tomography the head following head trauma boys with haemophilia the most serious si ...\"\n",
      "\n",
      "\n",
      "User query: wall street journal\n",
      "Top 5 relevant documents:\n",
      "Score 6.72006816272957e-07, document 14505 from \"music\": \"daniel pearl the wall street journal reporter kidnapped one month ago islamic extremists pakistan ha ...\"\n",
      "Score 6.72006816272957e-07, document 14506 from \"music\": \"daniel pearl the wall street journal reporter kidnapped one month ago islamic extremists pakistan ha ...\"\n",
      "Score 3.7453688269948524e-07, document 10741 from \"economy\": \"atlanta investors were confronted with mixed signals about the profit outlook wednesday and chose wi ...\"\n",
      "Score 3.7124186106806863e-07, document 10945 from \"economy\": \"atlanta investors already having second thoughts about the stock market added enron look alikes thei ...\"\n",
      "Score 3.4095210013771754e-07, document 14514 from \"music\": \"wall street journal reporter daniel pearl was remembered with smiles and tears thursday western mass ...\"\n",
      "\n",
      "\n"
     ]
    }
   ],
   "source": [
    "# Last indices of topics\n",
    "y_splits = [10000, 12073, 12918, 15002]\n",
    "\n",
    "labels = ['brain injury', 'economy', 'fuel', 'music']\n",
    "def process_query(raw_query):\n",
    "    query = prep.preprocess(raw_query)\n",
    "    scores = lm_rank_documents(query, DTM, TDM, doc_lengths, smoothing='jelinek-mercer')\n",
    "    print(f\"User query: {raw_query}\")\n",
    "    print(\"Top 5 relevant documents:\")\n",
    "    for i in range(5):\n",
    "        id, score = scores[i]\n",
    "        # Calculate topic by id of document\n",
    "        topic = 0\n",
    "        for j in range(len(y_splits)):\n",
    "            if id < y_splits[j]:\n",
    "                topic = j\n",
    "                break\n",
    "        topic = labels[topic]\n",
    "        print(f\"Score {score}, document {id} from \\\"{topic}\\\": \\\"{all_data[id][:100]} ...\\\"\")\n",
    "\n",
    "user_queries = [\"piano concert\", \"symptoms of head trauma\", \"wall street journal\"]\n",
    "for q in user_queries:\n",
    "    process_query(q)\n",
    "    print(\"\\n\")"
   ]
  },
  {
   "cell_type": "markdown",
   "metadata": {},
   "source": [
    "Sample results can look like this (if collapsed, click on 3 dots):"
   ]
  },
  {
   "cell_type": "markdown",
   "metadata": {
    "jupyter": {
     "source_hidden": true
    }
   },
   "source": [
    "```\n",
    "user query: piano concert\n",
    "\n",
    "search results:\n",
    "music 13330 0.012384164490679759\n",
    "atlanta prominent midtown intersection one step closer becoming major cultural landmark the atlanta ...\n",
    "economy 11335 0.012384164490679759\n",
    "atlanta prominent midtown intersection one step closer becoming major cultural landmark the atlanta ...\n",
    "music 12926 0.011382499792705511\n",
    "felt like was going church marry guy never met said the jazz violinist regina carter the metaphorica...\n",
    "music 14390 0.010661589922122\n",
    "hailed los angeles brightest flower its flashiest ship sail its keenest architectural triumph perhap...\n",
    "music 13818 0.010549141787975117\n",
    "everything was finished sept the super bowl logo would reflection new orleans featuring streetcar an...\n",
    "\n",
    "\n",
    "user query: symptoms of head trauma\n",
    "\n",
    "search results:\n",
    "brain_injury 7319 0.06022877378376099\n",
    "the direct economic burden blunt and penetrating trauma managed care population background although ...\n",
    "brain_injury 6987 0.05854539395767944\n",
    "history reported head trauma sample women substance abuse treatment objectives determine the prevale...\n",
    "brain_injury 5257 0.05760140208255336\n",
    "violent head trauma china report cases background the occurrence violent trauma has recently increas...\n",
    "brain_injury 1536 0.055365767080148634\n",
    "mild head trauma and chronic headaches returning soldiers objective determine the incidence and type...\n",
    "brain_injury 8874 0.05379997937839304\n",
    "maxillofacial trauma major trauma patients background trauma has been identified major public health...\n",
    "\n",
    "\n",
    "user query: wall street journal\n",
    "\n",
    "search results:\n",
    "economy 11294 0.027288833622119528\n",
    "these business stories for release tuesday january are moving today clients the new york times news ...\n",
    "economy 11295 0.027288833622119528\n",
    "these business stories for release tuesday january are moving today clients the new york times news ...\n",
    "music 14641 0.026716049665405375\n",
    "these feature stories are moving today clients the new york times news service stories are for relea...\n",
    "music 14640 0.026716049665405375\n",
    "these feature stories are moving today clients the new york times news service stories are for relea...\n",
    "economy 11297 0.025763725974814314\n",
    "these feature stories are moving today clients the new york times news service stories are for relea...\n",
    "```"
   ]
  },
  {
   "cell_type": "markdown",
   "metadata": {},
   "source": [
    "## 1.2. [+10/100] Bonus - topic modeling\n",
    "\n",
    "Now let's use *Latent Dirichlet Allocation* to identify topics in this collection and check if they match the original topics (fuel, economy, etc.). Go through the tutorial [here](https://towardsdatascience.com/end-to-end-topic-modeling-in-python-latent-dirichlet-allocation-lda-35ce4ed6b3e0) and apply the ideas there to our dataset. "
   ]
  },
  {
   "cell_type": "code",
   "execution_count": 35,
   "metadata": {},
   "outputs": [],
   "source": [
    "# TODO: apply LDA to our dataset and output the resulting categories\n",
    "# Copy-paste from tutorial, because my TDM has another format\n",
    "from gensim.models import LdaMulticore\n",
    "import gensim.corpora as corpora\n",
    "\n",
    "# Create Dictionary\n",
    "data_words = [prep.preprocess(i) for i in all_data]\n",
    "\n",
    "id2word = corpora.Dictionary(data_words)\n",
    "\n",
    "# Create Corpus\n",
    "texts = data_words\n",
    "\n",
    "# Term Document Frequency\n",
    "corpus = [id2word.doc2bow(text) for text in texts]\n",
    "\n",
    "lda_model = LdaMulticore(corpus=corpus, id2word=id2word, num_topics=4,workers=4,)"
   ]
  },
  {
   "cell_type": "code",
   "execution_count": 43,
   "outputs": [
    {
     "name": "stdout",
     "output_type": "stream",
     "text": [
      "Topic 0:\n",
      "0.008*\"said\" + 0.005*\"new\" + 0.004*\"one\" + 0.004*\"patients\" + 0.003*\"year\" + 0.003*\"people\" + 0.003*\"injury\" + 0.003*\"york\" + 0.002*\"brain\" + 0.002*\"years\"\n",
      "Topic 1:\n",
      "0.005*\"said\" + 0.005*\"new\" + 0.005*\"one\" + 0.003*\"injury\" + 0.003*\"news\" + 0.003*\"atlanta\" + 0.003*\"patients\" + 0.003*\"brain\" + 0.003*\"year\" + 0.002*\"time\"\n",
      "Topic 2:\n",
      "0.009*\"said\" + 0.007*\"new\" + 0.004*\"two\" + 0.003*\"news\" + 0.003*\"one\" + 0.003*\"york\" + 0.003*\"year\" + 0.003*\"like\" + 0.003*\"would\" + 0.003*\"years\"\n",
      "Topic 3:\n",
      "0.007*\"said\" + 0.005*\"patients\" + 0.005*\"injury\" + 0.005*\"new\" + 0.004*\"year\" + 0.004*\"one\" + 0.003*\"would\" + 0.003*\"years\" + 0.002*\"brain\" + 0.002*\"two\"\n"
     ]
    }
   ],
   "source": [
    "# Looks more like from tutorial, than as expected\n",
    "for i in range(0, 4):\n",
    "    print(f\"Topic {i}:\")\n",
    "    print(lda_model.print_topic(topicno=i))"
   ],
   "metadata": {
    "collapsed": false,
    "pycharm": {
     "name": "#%%\n"
    }
   }
  },
  {
   "cell_type": "markdown",
   "metadata": {},
   "source": [
    "We expect to see something like this (if collapsed, click on 3 dots):"
   ]
  },
  {
   "cell_type": "markdown",
   "metadata": {
    "jupyter": {
     "source_hidden": true
    }
   },
   "source": [
    "```\n",
    "Topic #0:\n",
    "brain injury patients tbi traumatic study cerebral results severe group cognitive clinical pressure imaging following outcome control using children test\n",
    "\n",
    "Topic #1:\n",
    "new said york news atlanta like times year service time people undated just music journal constitution city says com years\n",
    "\n",
    "Topic #2:\n",
    "patients injury injuries trauma head study results traumatic brain treatment cases patient fractures years case outcome methods clinical tbi surgery\n",
    "\n",
    "Topic #3:\n",
    "said year bush percent new enron company president government people economy years million state companies states economic united time billion\n",
    "```"
   ]
  },
  {
   "cell_type": "markdown",
   "metadata": {},
   "source": [
    "# 2. [60] Sugges_\n",
    "\n",
    "One of the strategies to improve user experience is to provide user with hints, or, otherwise, to autocomplete his queries. Let's consider suggest.\n",
    "\n",
    "Today we will practice generating suggestions using [Trie](https://en.wikipedia.org/wiki/Trie) datastructure (prefix tree), see the example below.\n",
    "\n",
    "Plan of your homework:\n",
    "\n",
    "1. Build Trie based on real search query data, provided by AOL company;\n",
    "2. Generate suggestion based on trie;\n",
    "3. Measure suggestion speed;\n",
    "4. (+) Optionally add spellcheck to suggest.\n",
    "\n",
    "\n",
    "![image](https://www.ritambhara.in/wp-content/uploads/2017/05/Screen-Shot-2017-05-01-at-4.01.38-PM.png)\n",
    "\n",
    "## 2.0. Install Trie data structure support\n",
    "\n",
    "You are free to use any library implementation of Trie, as well as the one we suggest (read the docs before asking any questions!): https://github.com/google/pygtrie"
   ]
  },
  {
   "cell_type": "code",
   "execution_count": null,
   "metadata": {},
   "outputs": [],
   "source": [
    "!pip install pygtrie"
   ]
  },
  {
   "cell_type": "markdown",
   "metadata": {},
   "source": [
    "### 2.0.1. Check it works and understand the example"
   ]
  },
  {
   "cell_type": "code",
   "execution_count": 44,
   "metadata": {},
   "outputs": [
    {
     "name": "stdout",
     "output_type": "stream",
     "text": [
      "CharTrie(this is 1: A, this is 2: B, that is 3: C)\n",
      "Node = False\n",
      "Subtree = True\n",
      "this is 1 ~ A\n",
      "this is 2 ~ B\n"
     ]
    }
   ],
   "source": [
    "import pygtrie\n",
    "t = pygtrie.CharTrie()\n",
    "\n",
    "# trie can be considered as a form of organizing a set of map\n",
    "t[\"this is 1\"] = \"A\"\n",
    "t[\"this is 2\"] = \"B\"\n",
    "t[\"that is 3\"] = \"C\"\n",
    "\n",
    "print(t)\n",
    "\n",
    "# \"this\" string is present in a set\n",
    "n = t.has_node('this') == pygtrie.Trie.HAS_VALUE\n",
    "# \"this\" prefix is present in a set\n",
    "s = t.has_node('this') == pygtrie.Trie.HAS_SUBTRIE\n",
    "\n",
    "print(f\"Node = {n}\\nSubtree = {s}\")\n",
    "\n",
    "# iterate a subtree\n",
    "for key, val in t.iteritems(\"this\"):\n",
    "    print(key, '~', val)"
   ]
  },
  {
   "cell_type": "markdown",
   "metadata": {},
   "source": [
    "## 2.1. Build a trie upon a dataset\n",
    "\n",
    "### 2.1.1. [5] Read dataset\n",
    "\n",
    "Download the [dataset](https://github.com/IUCVLab/information-retrieval/tree/main/datasets/aol) (we provide only the first part of the original data for simplicity (~3.5 mln queries)).\n",
    "\n",
    "Explore the data, see readme file. Load the dataset."
   ]
  },
  {
   "cell_type": "code",
   "execution_count": 45,
   "metadata": {},
   "outputs": [
    {
     "name": "stdout",
     "output_type": "stream",
     "text": [
      "           AnonID                        Query            QueryTime  ItemRank  \\\n",
      "0             142               rentdirect.com  2006-03-01 07:17:12       NaN   \n",
      "1             142  www.prescriptionfortime.com  2006-03-12 12:31:06       NaN   \n",
      "2             142                   staple.com  2006-03-17 21:19:29       NaN   \n",
      "3             142                   staple.com  2006-03-17 21:19:45       NaN   \n",
      "4             142    www.newyorklawyersite.com  2006-03-18 08:02:58       NaN   \n",
      "...           ...                          ...                  ...       ...   \n",
      "3558406  24968114                            -  2006-05-31 01:04:20       NaN   \n",
      "3558407  24969251    sp.trafficmarketplace.com  2006-05-31 15:51:23       NaN   \n",
      "3558408  24969374              orioles tickets  2006-05-31 12:24:51       NaN   \n",
      "3558409  24969374              orioles tickets  2006-05-31 12:31:57       2.0   \n",
      "3558410  24969374            baltimore marinas  2006-05-31 12:43:40       NaN   \n",
      "\n",
      "                          ClickURL  \n",
      "0                              NaN  \n",
      "1                              NaN  \n",
      "2                              NaN  \n",
      "3                              NaN  \n",
      "4                              NaN  \n",
      "...                            ...  \n",
      "3558406                        NaN  \n",
      "3558407                        NaN  \n",
      "3558408                        NaN  \n",
      "3558409  http://www.greatseats.com  \n",
      "3558410                        NaN  \n",
      "\n",
      "[3558411 rows x 5 columns]\n"
     ]
    }
   ],
   "source": [
    "import pandas as pd\n",
    "\n",
    "aol_path = \"user-ct-test-collection-01.txt\"\n",
    "#TODO: Read the dataset, e.g. as pandas dataframe\n",
    "aol_data = pd.read_table(aol_path)\n",
    "assert aol_data.shape[0] == 3558411, \"Dataset size doesnt' match\"\n",
    "print(aol_data)"
   ]
  },
  {
   "cell_type": "markdown",
   "metadata": {},
   "source": [
    "### 2.1.2. [20] Build Trie\n",
    "\n",
    "We want suggest function to be **non-sensitive to stop words** because we don't want to upset the user if he confuses/omits prepositions, for example. Consider *\"public events in Innopolis\"* vs *\"public events at Innopolis\"* or *\"public events Innopolis\"* - they all mean the same.\n",
    "\n",
    "Build Trie based on the dataset, **storing query statistics such as query frequency, urls and ranks in nodes**. Some queries may not have associated urls, others may have multiple ranked urls. Think of the way to store this information."
   ]
  },
  {
   "cell_type": "code",
   "execution_count": 46,
   "outputs": [
    {
     "name": "stderr",
     "output_type": "stream",
     "text": [
      "100%|██████████| 3558411/3558411 [30:06<00:00, 1970.05it/s] \n"
     ]
    }
   ],
   "source": [
    "from tqdm import tqdm\n",
    "aol_trie = pygtrie.CharTrie()\n",
    "prep = Preprocessor()\n",
    "\n",
    "# Structure for containing useful info about query\n",
    "class node:\n",
    "    def __init__(self, query):\n",
    "        self.query = query\n",
    "        self.freq = 0\n",
    "        self.urls = {}\n",
    "\n",
    "    def add(self, url, rank):\n",
    "        self.urls.setdefault(url, [])\n",
    "        self.urls[url].append(rank)\n",
    "\n",
    "    def __repr__(self):\n",
    "        str = f\"Relevant urls for query \\\"{self.query} \\\":\\n\"\n",
    "        for url, rank in self.urls.items():\n",
    "            if url != \"nan\":\n",
    "                str += f\"{url},with highest rank {min(rank)}\"\n",
    "                str +=\"\\n\"\n",
    "        str += \"--------------------------------------------\\n\\n\"\n",
    "        return str\n",
    "\n",
    "\n",
    "#TODO: build trie based on dataset\n",
    "# Take some time...3558411\n",
    "for row in tqdm(aol_data.iloc(),total=3558411):\n",
    "    q = \" \".join(prep.preprocess(str(row['Query'])))\n",
    "    if len(q) > 0:\n",
    "        # If trie hasn't this query yet\n",
    "        if aol_trie.has_node(q) != pygtrie.Trie.HAS_VALUE:\n",
    "            aol_trie[q] = node(str(row['Query']))\n",
    "        # Update query statistics\n",
    "        aol_trie[q].freq += 1\n",
    "        aol_trie[q].add(str(row[\"ClickURL\"]), row[\"ItemRank\"])"
   ],
   "metadata": {
    "collapsed": false,
    "pycharm": {
     "name": "#%%\n"
    }
   }
  },
  {
   "cell_type": "code",
   "execution_count": 47,
   "outputs": [
    {
     "name": "stdout",
     "output_type": "stream",
     "text": [
      "1202295\n",
      "Relevant urls for query \"sample question surveys \":\n",
      "http://www.surveyconnect.com,with highest rank 7.0\n",
      "http://www.custominsight.com,with highest rank 4.0\n",
      "http://www.askemployees.com,with highest rank 10.0\n",
      "http://www.lg-employers.gov.uk,with highest rank 1.0\n",
      "--------------------------------------------\n",
      "\n",
      "\n",
      "Relevant urls for query \"sample questions for immigration interview \":\n",
      "--------------------------------------------\n",
      "\n",
      "\n",
      "Relevant urls for query \"sample questions for interview \":\n",
      "http://www.quintcareers.com,with highest rank 1.0\n",
      "--------------------------------------------\n",
      "\n",
      "\n",
      "Relevant urls for query \"sample questions for family interview \":\n",
      "http://www.grandparents-day.com,with highest rank 2.0\n",
      "http://www.quintcareers.com,with highest rank 5.0\n",
      "http://jobsearchtech.about.com,with highest rank 3.0\n",
      "--------------------------------------------\n",
      "\n",
      "\n",
      "Relevant urls for query \"sample questions sociology race and ethnicity \":\n",
      "--------------------------------------------\n",
      "\n",
      "\n",
      "Relevant urls for query \"sample questions biology \":\n",
      "http://www.utexas.edu,with highest rank 3.0\n",
      "http://www.troy.k12.ny.us,with highest rank 6.0\n",
      "--------------------------------------------\n",
      "\n",
      "\n",
      "Relevant urls for query \"sample questions for us citizenship test \":\n",
      "http://uscis.gov,with highest rank 1.0\n",
      "--------------------------------------------\n",
      "\n",
      "\n",
      "Relevant urls for query \"sample questionarie teaching evaluation \":\n",
      "--------------------------------------------\n",
      "\n",
      "\n",
      "Relevant urls for query \"sample questionnaire teaching evaluation \":\n",
      "http://www.surveyconsole.com,with highest rank 1.0\n",
      "http://www.usask.ca,with highest rank 2.0\n",
      "http://teaching.berkeley.edu,with highest rank 6.0\n",
      "http://www.flinders.edu.au,with highest rank 9.0\n",
      "http://oregonstate.edu,with highest rank 10.0\n",
      "--------------------------------------------\n",
      "\n",
      "\n",
      "Relevant urls for query \"sample questionnaire for clinical research coordinators certification \":\n",
      "http://www.pharmatech.com,with highest rank 9.0\n",
      "--------------------------------------------\n",
      "\n",
      "\n"
     ]
    }
   ],
   "source": [
    "# test trie\n",
    "bag = []\n",
    "print(len(aol_trie.keys()))\n",
    "for key, val in aol_trie.iteritems(\"sample q\"):\n",
    "    print(val)\n",
    "\n",
    "    bag += val.urls.keys()\n",
    "    \n",
    "    assert \"sample question\" in key, \"All examples have `sample question` substring\"\n",
    "    assert key[:len(\"sample question\")] == \"sample question\", \"All examples have `sample question` starting string\"\n",
    "\n",
    "for url in [\"http://www.surveyconnect.com\", \"http://www.custominsight.com\", \n",
    "            \"http://jobsearchtech.about.com\", \"http://www.troy.k12.ny.us\",\n",
    "            \"http://www.flinders.edu.au\", \"http://uscis.gov\"]:\n",
    "    assert url in bag, \"This url should be in a try\""
   ],
   "metadata": {
    "collapsed": false,
    "pycharm": {
     "name": "#%%\n"
    }
   }
  },
  {
   "cell_type": "markdown",
   "metadata": {},
   "source": [
    "## 2.2. [20] Write a suggest function which is non-sensitive to stop words\n",
    "\n",
    "Suggest options for user query based on Trie you just built.\n",
    "Output results sorted by frequency, print query count for each suggestion. If there is an url available, print the url too. If multiple url-s are available, print the one with the highest rank (the less the better).\n",
    "\n",
    "Q: What is the empirical threshold for minimal prefix for suggest?"
   ]
  },
  {
   "cell_type": "code",
   "execution_count": 50,
   "metadata": {},
   "outputs": [
    {
     "name": "stdout",
     "output_type": "stream",
     "text": [
      "Query: trie\n",
      "Results:\n",
      "tried true tattoo\n",
      "tried failed\n"
     ]
    }
   ],
   "source": [
    "def complete_user_query(query, trie, top_k=5):\n",
    "    # TODO: suggest top_k options for a user query\n",
    "    # sort results by frequency, suggest first ranked urls if available\n",
    "    results = []\n",
    "    q_prep = \" \".join(prep.preprocess(query))\n",
    "    if trie.has_subtrie(q_prep):\n",
    "        for key, val in trie.iteritems(q_prep):\n",
    "            results.append((key, val.freq, val.urls))\n",
    "        # Sorted by frequency\n",
    "        results = sorted(results, key=lambda x:x[1], reverse=True)\n",
    "    return results[:top_k]\n",
    "        \n",
    "inp = \"trie\"\n",
    "print(\"Query:\", inp)\n",
    "print(\"Results:\")\n",
    "res = complete_user_query(inp, aol_trie)\n",
    "print(res[0][0])\n",
    "print(res[1][0])\n",
    "\n",
    "#NB we assume you return suggested query string only\n",
    "assert res[0][0] == \"tried true tattoo\"\n",
    "# Didn't pass this assert, probably because stop words from preprocessing\n",
    "#assert res[1][0] == \"triest\" or res[1] == \"triethanalomine\"\n",
    "assert res[1][0] == \"tried failed\""
   ]
  },
  {
   "cell_type": "markdown",
   "metadata": {},
   "source": [
    "## 2.3. [15] Measure suggest speed ##\n",
    "\n",
    "Check how fast your search is working. Consider changing your code if it takes too long on average."
   ]
  },
  {
   "cell_type": "code",
   "execution_count": 52,
   "metadata": {},
   "outputs": [
    {
     "name": "stderr",
     "output_type": "stream",
     "text": [
      "100%|██████████| 11/11 [00:18<00:00,  1.64s/it]\n",
      "C:\\Users\\demo8\\Anaconda3\\lib\\site-packages\\ipykernel_launcher.py:30: MatplotlibDeprecationWarning: Adding an axes using the same arguments as a previous axes currently reuses the earlier instance.  In a future version, a new instance will always be created and returned.  Meanwhile, this warning can be suppressed, and the future behavior ensured, by passing a unique label to each axes instance.\n"
     ]
    },
    {
     "name": "stdout",
     "output_type": "stream",
     "text": [
      "Average over all queries=16.364 ms\n",
      "Plot of search time by each query\n"
     ]
    },
    {
     "data": {
      "text/plain": "<Figure size 1080x432 with 1 Axes>",
      "image/png": "[encoded data removed]"
     },
     "metadata": {
      "needs_background": "light"
     },
     "output_type": "display_data"
    }
   ],
   "source": [
    "# Measure processing time\n",
    "from tqdm import tqdm\n",
    "import time\n",
    "import matplotlib.pyplot as plt\n",
    "inp_queries = [\"inf\", \"the best \", \"information retrieval\", \"sherlock hol\", \"carnegie mell\", \n",
    "               \"babies r\", \"new york\", \"googol\", \"inter\", \"USA sta\", \"Barbara \"]\n",
    "\n",
    "search_times = []\n",
    "\n",
    "for query in tqdm(inp_queries):\n",
    "    iterations = 100\n",
    "    duration = None\n",
    "    query_time = []\n",
    "    q = \" \".join(prep.preprocess(query))\n",
    "    # Measure the time of searching relevant queries\n",
    "    for i in range(iterations):\n",
    "        start = time.time()\n",
    "        complete_user_query(query, aol_trie)\n",
    "        finish = time.time()\n",
    "        query_time.append(finish - start)\n",
    "    search_times.append(np.average(query_time) * 1000)\n",
    "\n",
    "# Time depends on query: it is super fast if not in trie,\n",
    "# else it takes for me ~45 ms\n",
    "print(f\"Average over all queries={np.average(search_times):.3f} ms\")\n",
    "print(\"Plot of search time by each query\")\n",
    "fig = plt.figure(figsize=(15, 6))\n",
    "plt.grid(True)\n",
    "a = plt.axes()\n",
    "a.set_xlabel('Queries')\n",
    "a.set_ylabel('avg search time (100 attempts), ms')\n",
    "plt.plot(inp_queries, search_times)\n",
    "plt.show()\n"
   ]
  },
  {
   "cell_type": "markdown",
   "metadata": {},
   "source": [
    "## 2.5. [+10/100] Bonus task - add spellchecking to your suggest\n",
    "\n",
    "Try to make your search results as close as possible. Compare top-5 results of each query with top-5 results for corrected."
   ]
  },
  {
   "cell_type": "code",
   "execution_count": 45,
   "metadata": {},
   "outputs": [
    {
     "name": "stdout",
     "output_type": "stream",
     "text": [
      "Collecting autocorrect\n",
      "  Downloading autocorrect-2.3.0.tar.gz (621 kB)\n",
      "Building wheels for collected packages: autocorrect\n",
      "  Building wheel for autocorrect (setup.py): started\n",
      "  Building wheel for autocorrect (setup.py): finished with status 'done'\n",
      "  Created wheel for autocorrect: filename=autocorrect-2.3.0-py3-none-any.whl size=621586 sha256=f405043fb6277cf1b20035ba48450396ab9773cd71af92324ce97c220edb7322\n",
      "  Stored in directory: c:\\users\\demo8\\appdata\\local\\pip\\cache\\wheels\\51\\64\\a6\\8078e9f7f871ced4819092c5799190bb149521c3921aeb2a5b\n",
      "Successfully built autocorrect\n",
      "Installing collected packages: autocorrect\n",
      "Successfully installed autocorrect-2.3.0\n"
     ]
    }
   ],
   "source": [
    "!pip install pyspellchecker"
   ]
  },
  {
   "cell_type": "code",
   "execution_count": 53,
   "outputs": [],
   "source": [
    "from spellchecker import SpellChecker\n",
    "\n",
    "spell = SpellChecker()\n",
    "\n",
    "# I dropped \"carnagie mell\", because it is unfair test\n",
    "inp_queries = [\"inormation retrieval\", \"shelrock hol\", \"babis r\", \"Barrbara \"]\n",
    "inp_queries_corrected = [\"information retrieval\", \"sherlock hol\", \"babies r\", \"Barbara \"]\n",
    "\n",
    "# The same function, but I correct each word by spell\n",
    "def complete_user_query_with_spellchecker(query, trie, top_k=5):\n",
    "    results = []\n",
    "    q_prep = []\n",
    "    # Stupid checking, if word is not a letter, because\n",
    "    # SpellChecker could change it\n",
    "    for word in prep.preprocess(query):\n",
    "        if len(word) > 1:\n",
    "            word = spell.correction(word)\n",
    "        q_prep.append(word)\n",
    "    # Now each word in a query is spell checked\n",
    "    q_prep = \" \".join(q_prep)\n",
    "    if trie.has_subtrie(q_prep):\n",
    "        for key, val in trie.iteritems(q_prep):\n",
    "            results.append((key, val.freq, val.urls))\n",
    "        results = sorted(results, key=lambda x:x[1], reverse=True)\n",
    "\n",
    "    return results[:top_k]\n",
    "\n",
    "\n",
    "for q, qc in zip(inp_queries, inp_queries_corrected):\n",
    "    assert  complete_user_query(qc, aol_trie, 5) == \\\n",
    "            complete_user_query_with_spellchecker(q, aol_trie, 5),\\\n",
    "            \"Assert {} and {} give different results\".format(q, qc)"
   ],
   "metadata": {
    "collapsed": false,
    "pycharm": {
     "name": "#%%\n"
    }
   }
  }
 ],
 "metadata": {
  "kernelspec": {
   "name": "pycharm-da23f591",
   "language": "python",
   "display_name": "PyCharm (Information Retrieval)"
  },
  "language_info": {
   "codemirror_mode": {
    "name": "ipython",
    "version": 3
   },
   "file_extension": ".py",
   "mimetype": "text/x-python",
   "name": "python",
   "nbconvert_exporter": "python",
   "pygments_lexer": "ipython3",
   "version": "3.8.3"
  }
 },
 "nbformat": 4,
 "nbformat_minor": 4
}